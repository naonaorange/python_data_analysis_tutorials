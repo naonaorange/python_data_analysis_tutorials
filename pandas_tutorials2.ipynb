{
 "cells": [
  {
   "cell_type": "code",
   "execution_count": 2,
   "metadata": {},
   "outputs": [],
   "source": [
    "import pandas as pd\n",
    "import numpy as np"
   ]
  },
  {
   "cell_type": "markdown",
   "metadata": {},
   "source": [
    "# ファイルの読み込み"
   ]
  },
  {
   "cell_type": "code",
   "execution_count": 2,
   "metadata": {},
   "outputs": [
    {
     "data": {
      "text/html": [
       "<div>\n",
       "<style scoped>\n",
       "    .dataframe tbody tr th:only-of-type {\n",
       "        vertical-align: middle;\n",
       "    }\n",
       "\n",
       "    .dataframe tbody tr th {\n",
       "        vertical-align: top;\n",
       "    }\n",
       "\n",
       "    .dataframe thead th {\n",
       "        text-align: right;\n",
       "    }\n",
       "</style>\n",
       "<table border=\"1\" class=\"dataframe\">\n",
       "  <thead>\n",
       "    <tr style=\"text-align: right;\">\n",
       "      <th></th>\n",
       "      <th>time</th>\n",
       "      <th>sensor1</th>\n",
       "      <th>sensor2</th>\n",
       "    </tr>\n",
       "  </thead>\n",
       "  <tbody>\n",
       "    <tr>\n",
       "      <th>0</th>\n",
       "      <td>0</td>\n",
       "      <td>1</td>\n",
       "      <td>5</td>\n",
       "    </tr>\n",
       "    <tr>\n",
       "      <th>1</th>\n",
       "      <td>1</td>\n",
       "      <td>3</td>\n",
       "      <td>6</td>\n",
       "    </tr>\n",
       "    <tr>\n",
       "      <th>2</th>\n",
       "      <td>2</td>\n",
       "      <td>4</td>\n",
       "      <td>7</td>\n",
       "    </tr>\n",
       "    <tr>\n",
       "      <th>3</th>\n",
       "      <td>3</td>\n",
       "      <td>3</td>\n",
       "      <td>5</td>\n",
       "    </tr>\n",
       "    <tr>\n",
       "      <th>4</th>\n",
       "      <td>4</td>\n",
       "      <td>8</td>\n",
       "      <td>9</td>\n",
       "    </tr>\n",
       "  </tbody>\n",
       "</table>\n",
       "</div>"
      ],
      "text/plain": [
       "   time  sensor1  sensor2\n",
       "0     0        1        5\n",
       "1     1        3        6\n",
       "2     2        4        7\n",
       "3     3        3        5\n",
       "4     4        8        9"
      ]
     },
     "execution_count": 2,
     "metadata": {},
     "output_type": "execute_result"
    }
   ],
   "source": [
    "frame = pd.read_csv('data/data1.csv')\n",
    "frame"
   ]
  },
  {
   "cell_type": "code",
   "execution_count": 12,
   "metadata": {},
   "outputs": [
    {
     "name": "stdout",
     "output_type": "stream",
     "text": [
      "           time   sensor1  sensor2\n",
      "count  5.000000  5.000000  5.00000\n",
      "mean   2.000000  3.800000  6.40000\n",
      "std    1.581139  2.588436  1.67332\n",
      "min    0.000000  1.000000  5.00000\n",
      "25%    1.000000  3.000000  5.00000\n",
      "50%    2.000000  3.000000  6.00000\n",
      "75%    3.000000  4.000000  7.00000\n",
      "max    4.000000  8.000000  9.00000\n"
     ]
    }
   ],
   "source": [
    "frame = pd.read_csv('data/data1.csv')\n",
    "print(frame.describe(include='all'))"
   ]
  },
  {
   "cell_type": "code",
   "execution_count": 3,
   "metadata": {},
   "outputs": [
    {
     "data": {
      "text/html": [
       "<div>\n",
       "<style scoped>\n",
       "    .dataframe tbody tr th:only-of-type {\n",
       "        vertical-align: middle;\n",
       "    }\n",
       "\n",
       "    .dataframe tbody tr th {\n",
       "        vertical-align: top;\n",
       "    }\n",
       "\n",
       "    .dataframe thead th {\n",
       "        text-align: right;\n",
       "    }\n",
       "</style>\n",
       "<table border=\"1\" class=\"dataframe\">\n",
       "  <thead>\n",
       "    <tr style=\"text-align: right;\">\n",
       "      <th></th>\n",
       "      <th>0</th>\n",
       "      <th>1</th>\n",
       "      <th>2</th>\n",
       "    </tr>\n",
       "  </thead>\n",
       "  <tbody>\n",
       "    <tr>\n",
       "      <th>0</th>\n",
       "      <td>0</td>\n",
       "      <td>1</td>\n",
       "      <td>5</td>\n",
       "    </tr>\n",
       "    <tr>\n",
       "      <th>1</th>\n",
       "      <td>1</td>\n",
       "      <td>3</td>\n",
       "      <td>6</td>\n",
       "    </tr>\n",
       "    <tr>\n",
       "      <th>2</th>\n",
       "      <td>2</td>\n",
       "      <td>4</td>\n",
       "      <td>7</td>\n",
       "    </tr>\n",
       "    <tr>\n",
       "      <th>3</th>\n",
       "      <td>3</td>\n",
       "      <td>3</td>\n",
       "      <td>5</td>\n",
       "    </tr>\n",
       "    <tr>\n",
       "      <th>4</th>\n",
       "      <td>4</td>\n",
       "      <td>8</td>\n",
       "      <td>9</td>\n",
       "    </tr>\n",
       "  </tbody>\n",
       "</table>\n",
       "</div>"
      ],
      "text/plain": [
       "   0  1  2\n",
       "0  0  1  5\n",
       "1  1  3  6\n",
       "2  2  4  7\n",
       "3  3  3  5\n",
       "4  4  8  9"
      ]
     },
     "execution_count": 3,
     "metadata": {},
     "output_type": "execute_result"
    }
   ],
   "source": [
    "frame = pd.read_csv('data/data1_noheader.csv', header=None)\n",
    "frame"
   ]
  },
  {
   "cell_type": "code",
   "execution_count": 4,
   "metadata": {},
   "outputs": [
    {
     "data": {
      "text/html": [
       "<div>\n",
       "<style scoped>\n",
       "    .dataframe tbody tr th:only-of-type {\n",
       "        vertical-align: middle;\n",
       "    }\n",
       "\n",
       "    .dataframe tbody tr th {\n",
       "        vertical-align: top;\n",
       "    }\n",
       "\n",
       "    .dataframe thead th {\n",
       "        text-align: right;\n",
       "    }\n",
       "</style>\n",
       "<table border=\"1\" class=\"dataframe\">\n",
       "  <thead>\n",
       "    <tr style=\"text-align: right;\">\n",
       "      <th></th>\n",
       "      <th>a</th>\n",
       "      <th>b</th>\n",
       "      <th>c</th>\n",
       "    </tr>\n",
       "  </thead>\n",
       "  <tbody>\n",
       "    <tr>\n",
       "      <th>0</th>\n",
       "      <td>0</td>\n",
       "      <td>1</td>\n",
       "      <td>5</td>\n",
       "    </tr>\n",
       "    <tr>\n",
       "      <th>1</th>\n",
       "      <td>1</td>\n",
       "      <td>3</td>\n",
       "      <td>6</td>\n",
       "    </tr>\n",
       "    <tr>\n",
       "      <th>2</th>\n",
       "      <td>2</td>\n",
       "      <td>4</td>\n",
       "      <td>7</td>\n",
       "    </tr>\n",
       "    <tr>\n",
       "      <th>3</th>\n",
       "      <td>3</td>\n",
       "      <td>3</td>\n",
       "      <td>5</td>\n",
       "    </tr>\n",
       "    <tr>\n",
       "      <th>4</th>\n",
       "      <td>4</td>\n",
       "      <td>8</td>\n",
       "      <td>9</td>\n",
       "    </tr>\n",
       "  </tbody>\n",
       "</table>\n",
       "</div>"
      ],
      "text/plain": [
       "   a  b  c\n",
       "0  0  1  5\n",
       "1  1  3  6\n",
       "2  2  4  7\n",
       "3  3  3  5\n",
       "4  4  8  9"
      ]
     },
     "execution_count": 4,
     "metadata": {},
     "output_type": "execute_result"
    }
   ],
   "source": [
    "frame = pd.read_csv('data/data1_noheader.csv', names=['a','b','c'])\n",
    "frame"
   ]
  },
  {
   "cell_type": "code",
   "execution_count": 5,
   "metadata": {},
   "outputs": [
    {
     "data": {
      "text/html": [
       "<div>\n",
       "<style scoped>\n",
       "    .dataframe tbody tr th:only-of-type {\n",
       "        vertical-align: middle;\n",
       "    }\n",
       "\n",
       "    .dataframe tbody tr th {\n",
       "        vertical-align: top;\n",
       "    }\n",
       "\n",
       "    .dataframe thead th {\n",
       "        text-align: right;\n",
       "    }\n",
       "</style>\n",
       "<table border=\"1\" class=\"dataframe\">\n",
       "  <thead>\n",
       "    <tr style=\"text-align: right;\">\n",
       "      <th></th>\n",
       "      <th>a</th>\n",
       "      <th>b</th>\n",
       "      <th>c</th>\n",
       "    </tr>\n",
       "  </thead>\n",
       "  <tbody>\n",
       "    <tr>\n",
       "      <th>0</th>\n",
       "      <td>0</td>\n",
       "      <td>1</td>\n",
       "      <td>5</td>\n",
       "    </tr>\n",
       "    <tr>\n",
       "      <th>1</th>\n",
       "      <td>1</td>\n",
       "      <td>3</td>\n",
       "      <td>6</td>\n",
       "    </tr>\n",
       "    <tr>\n",
       "      <th>2</th>\n",
       "      <td>2</td>\n",
       "      <td>4</td>\n",
       "      <td>7</td>\n",
       "    </tr>\n",
       "    <tr>\n",
       "      <th>3</th>\n",
       "      <td>3</td>\n",
       "      <td>3</td>\n",
       "      <td>5</td>\n",
       "    </tr>\n",
       "    <tr>\n",
       "      <th>4</th>\n",
       "      <td>4</td>\n",
       "      <td>8</td>\n",
       "      <td>9</td>\n",
       "    </tr>\n",
       "  </tbody>\n",
       "</table>\n",
       "</div>"
      ],
      "text/plain": [
       "   a  b  c\n",
       "0  0  1  5\n",
       "1  1  3  6\n",
       "2  2  4  7\n",
       "3  3  3  5\n",
       "4  4  8  9"
      ]
     },
     "execution_count": 5,
     "metadata": {},
     "output_type": "execute_result"
    }
   ],
   "source": [
    "pd.read_pickle('data/data3.pickle')"
   ]
  },
  {
   "cell_type": "markdown",
   "metadata": {},
   "source": [
    "# 大容量のデータの読み込み"
   ]
  },
  {
   "cell_type": "code",
   "execution_count": 6,
   "metadata": {},
   "outputs": [
    {
     "data": {
      "text/html": [
       "<div>\n",
       "<style scoped>\n",
       "    .dataframe tbody tr th:only-of-type {\n",
       "        vertical-align: middle;\n",
       "    }\n",
       "\n",
       "    .dataframe tbody tr th {\n",
       "        vertical-align: top;\n",
       "    }\n",
       "\n",
       "    .dataframe thead th {\n",
       "        text-align: right;\n",
       "    }\n",
       "</style>\n",
       "<table border=\"1\" class=\"dataframe\">\n",
       "  <thead>\n",
       "    <tr style=\"text-align: right;\">\n",
       "      <th></th>\n",
       "      <th>one</th>\n",
       "      <th>two</th>\n",
       "      <th>three</th>\n",
       "      <th>four</th>\n",
       "      <th>key</th>\n",
       "    </tr>\n",
       "  </thead>\n",
       "  <tbody>\n",
       "    <tr>\n",
       "      <th>0</th>\n",
       "      <td>0.467976</td>\n",
       "      <td>-0.038649</td>\n",
       "      <td>-0.295344</td>\n",
       "      <td>-1.824726</td>\n",
       "      <td>L</td>\n",
       "    </tr>\n",
       "    <tr>\n",
       "      <th>1</th>\n",
       "      <td>-0.358893</td>\n",
       "      <td>1.404453</td>\n",
       "      <td>0.704965</td>\n",
       "      <td>-0.200638</td>\n",
       "      <td>B</td>\n",
       "    </tr>\n",
       "    <tr>\n",
       "      <th>2</th>\n",
       "      <td>-0.501840</td>\n",
       "      <td>0.659254</td>\n",
       "      <td>-0.421691</td>\n",
       "      <td>-0.057688</td>\n",
       "      <td>G</td>\n",
       "    </tr>\n",
       "    <tr>\n",
       "      <th>3</th>\n",
       "      <td>0.204886</td>\n",
       "      <td>1.074134</td>\n",
       "      <td>1.388361</td>\n",
       "      <td>-0.982404</td>\n",
       "      <td>R</td>\n",
       "    </tr>\n",
       "    <tr>\n",
       "      <th>4</th>\n",
       "      <td>0.354628</td>\n",
       "      <td>-0.133116</td>\n",
       "      <td>0.283763</td>\n",
       "      <td>-0.837063</td>\n",
       "      <td>Q</td>\n",
       "    </tr>\n",
       "  </tbody>\n",
       "</table>\n",
       "</div>"
      ],
      "text/plain": [
       "        one       two     three      four key\n",
       "0  0.467976 -0.038649 -0.295344 -1.824726   L\n",
       "1 -0.358893  1.404453  0.704965 -0.200638   B\n",
       "2 -0.501840  0.659254 -0.421691 -0.057688   G\n",
       "3  0.204886  1.074134  1.388361 -0.982404   R\n",
       "4  0.354628 -0.133116  0.283763 -0.837063   Q"
      ]
     },
     "execution_count": 6,
     "metadata": {},
     "output_type": "execute_result"
    }
   ],
   "source": [
    "data = pd.read_csv('data/data2.csv', nrows=5)"
   ]
  },
  {
   "cell_type": "code",
   "execution_count": 15,
   "metadata": {},
   "outputs": [
    {
     "data": {
      "text/html": [
       "<div>\n",
       "<style scoped>\n",
       "    .dataframe tbody tr th:only-of-type {\n",
       "        vertical-align: middle;\n",
       "    }\n",
       "\n",
       "    .dataframe tbody tr th {\n",
       "        vertical-align: top;\n",
       "    }\n",
       "\n",
       "    .dataframe thead th {\n",
       "        text-align: right;\n",
       "    }\n",
       "</style>\n",
       "<table border=\"1\" class=\"dataframe\">\n",
       "  <thead>\n",
       "    <tr style=\"text-align: right;\">\n",
       "      <th></th>\n",
       "      <th>one</th>\n",
       "      <th>two</th>\n",
       "      <th>three</th>\n",
       "      <th>four</th>\n",
       "      <th>key</th>\n",
       "    </tr>\n",
       "  </thead>\n",
       "  <tbody>\n",
       "    <tr>\n",
       "      <th>count</th>\n",
       "      <td>10000.000000</td>\n",
       "      <td>10000.000000</td>\n",
       "      <td>10000.000000</td>\n",
       "      <td>10000.000000</td>\n",
       "      <td>10000</td>\n",
       "    </tr>\n",
       "    <tr>\n",
       "      <th>unique</th>\n",
       "      <td>NaN</td>\n",
       "      <td>NaN</td>\n",
       "      <td>NaN</td>\n",
       "      <td>NaN</td>\n",
       "      <td>36</td>\n",
       "    </tr>\n",
       "    <tr>\n",
       "      <th>top</th>\n",
       "      <td>NaN</td>\n",
       "      <td>NaN</td>\n",
       "      <td>NaN</td>\n",
       "      <td>NaN</td>\n",
       "      <td>E</td>\n",
       "    </tr>\n",
       "    <tr>\n",
       "      <th>freq</th>\n",
       "      <td>NaN</td>\n",
       "      <td>NaN</td>\n",
       "      <td>NaN</td>\n",
       "      <td>NaN</td>\n",
       "      <td>368</td>\n",
       "    </tr>\n",
       "    <tr>\n",
       "      <th>mean</th>\n",
       "      <td>0.045750</td>\n",
       "      <td>0.000871</td>\n",
       "      <td>-0.026463</td>\n",
       "      <td>0.015985</td>\n",
       "      <td>NaN</td>\n",
       "    </tr>\n",
       "    <tr>\n",
       "      <th>std</th>\n",
       "      <td>0.948825</td>\n",
       "      <td>1.003829</td>\n",
       "      <td>1.037273</td>\n",
       "      <td>0.982409</td>\n",
       "      <td>NaN</td>\n",
       "    </tr>\n",
       "    <tr>\n",
       "      <th>min</th>\n",
       "      <td>-3.726864</td>\n",
       "      <td>-3.465356</td>\n",
       "      <td>-3.234391</td>\n",
       "      <td>-3.173509</td>\n",
       "      <td>NaN</td>\n",
       "    </tr>\n",
       "    <tr>\n",
       "      <th>25%</th>\n",
       "      <td>-0.618617</td>\n",
       "      <td>-0.706643</td>\n",
       "      <td>-0.727791</td>\n",
       "      <td>-0.676291</td>\n",
       "      <td>NaN</td>\n",
       "    </tr>\n",
       "    <tr>\n",
       "      <th>50%</th>\n",
       "      <td>0.041638</td>\n",
       "      <td>0.018972</td>\n",
       "      <td>-0.032340</td>\n",
       "      <td>-0.005338</td>\n",
       "      <td>NaN</td>\n",
       "    </tr>\n",
       "    <tr>\n",
       "      <th>75%</th>\n",
       "      <td>0.701536</td>\n",
       "      <td>0.708405</td>\n",
       "      <td>0.626904</td>\n",
       "      <td>0.659369</td>\n",
       "      <td>NaN</td>\n",
       "    </tr>\n",
       "    <tr>\n",
       "      <th>max</th>\n",
       "      <td>2.833891</td>\n",
       "      <td>2.946737</td>\n",
       "      <td>3.053345</td>\n",
       "      <td>3.412734</td>\n",
       "      <td>NaN</td>\n",
       "    </tr>\n",
       "  </tbody>\n",
       "</table>\n",
       "</div>"
      ],
      "text/plain": [
       "                 one           two         three          four    key\n",
       "count   10000.000000  10000.000000  10000.000000  10000.000000  10000\n",
       "unique           NaN           NaN           NaN           NaN     36\n",
       "top              NaN           NaN           NaN           NaN      E\n",
       "freq             NaN           NaN           NaN           NaN    368\n",
       "mean        0.045750      0.000871     -0.026463      0.015985    NaN\n",
       "std         0.948825      1.003829      1.037273      0.982409    NaN\n",
       "min        -3.726864     -3.465356     -3.234391     -3.173509    NaN\n",
       "25%        -0.618617     -0.706643     -0.727791     -0.676291    NaN\n",
       "50%         0.041638      0.018972     -0.032340     -0.005338    NaN\n",
       "75%         0.701536      0.708405      0.626904      0.659369    NaN\n",
       "max         2.833891      2.946737      3.053345      3.412734    NaN"
      ]
     },
     "execution_count": 15,
     "metadata": {},
     "output_type": "execute_result"
    }
   ],
   "source": [
    "data = pd.read_csv('data/data2.csv')\n",
    "data.describe(include='all')"
   ]
  },
  {
   "cell_type": "code",
   "execution_count": 18,
   "metadata": {},
   "outputs": [
    {
     "data": {
      "text/plain": [
       "E    368\n",
       "X    364\n",
       "L    346\n",
       "O    343\n",
       "Q    340\n",
       "M    338\n",
       "J    337\n",
       "F    335\n",
       "K    334\n",
       "H    330\n",
       "V    328\n",
       "I    327\n",
       "U    326\n",
       "P    324\n",
       "A    320\n",
       "D    320\n",
       "R    318\n",
       "Y    314\n",
       "G    308\n",
       "S    308\n",
       "N    306\n",
       "W    305\n",
       "T    304\n",
       "B    302\n",
       "Z    288\n",
       "C    286\n",
       "4    171\n",
       "6    166\n",
       "7    164\n",
       "8    162\n",
       "3    162\n",
       "5    157\n",
       "2    152\n",
       "0    151\n",
       "9    150\n",
       "1    146\n",
       "Name: key, dtype: int64"
      ]
     },
     "execution_count": 18,
     "metadata": {},
     "output_type": "execute_result"
    }
   ],
   "source": [
    "data = pd.read_csv('data/data2.csv')\n",
    "data['key'].value_counts()"
   ]
  },
  {
   "cell_type": "code",
   "execution_count": 7,
   "metadata": {},
   "outputs": [
    {
     "data": {
      "text/plain": [
       "<pandas.io.parsers.TextFileReader at 0x183fc9bb948>"
      ]
     },
     "execution_count": 7,
     "metadata": {},
     "output_type": "execute_result"
    }
   ],
   "source": [
    "pd.read_csv('data/data2.csv', chunksize= 10)"
   ]
  },
  {
   "cell_type": "markdown",
   "metadata": {},
   "source": [
    "# データ書き出し"
   ]
  },
  {
   "cell_type": "code",
   "execution_count": 8,
   "metadata": {},
   "outputs": [],
   "source": [
    "frame.to_csv('data/out1.csv')\n",
    "frame.to_pickle('data/out2.pickle')"
   ]
  },
  {
   "cell_type": "markdown",
   "metadata": {},
   "source": [
    "# 欠損値の削除、穴埋め"
   ]
  },
  {
   "cell_type": "code",
   "execution_count": 4,
   "metadata": {},
   "outputs": [
    {
     "name": "stdout",
     "output_type": "stream",
     "text": [
      "0    1.0\n",
      "1    NaN\n",
      "2    3.0\n",
      "3    NaN\n",
      "4    5.0\n",
      "dtype: float64\n",
      "\n",
      "欠損値かどうかを確認\n",
      "0    False\n",
      "1     True\n",
      "2    False\n",
      "3     True\n",
      "4    False\n",
      "dtype: bool\n",
      "\n",
      "欠損値の削除\n",
      "0    1.0\n",
      "2    3.0\n",
      "4    5.0\n",
      "dtype: float64\n"
     ]
    }
   ],
   "source": [
    "data = pd.Series([1,np.nan, 3,np.nan,5])\n",
    "print(data)\n",
    "\n",
    "print('\\n欠損値かどうかを確認')\n",
    "print(data.isnull())\n",
    "\n",
    "print('\\n欠損値の削除')\n",
    "print(data.dropna())"
   ]
  },
  {
   "cell_type": "code",
   "execution_count": 7,
   "metadata": {},
   "outputs": [
    {
     "name": "stdout",
     "output_type": "stream",
     "text": [
      "     0    1    2\n",
      "0  1.0  2.0  3.0\n",
      "1  4.0  NaN  6.0\n",
      "2  NaN  NaN  NaN\n",
      "\n",
      "欠損値を含む行のみを確認\n",
      "     0   1    2\n",
      "1  4.0 NaN  6.0\n",
      "2  NaN NaN  NaN\n",
      "\n",
      "欠損値を含む行、列の削除\n",
      "     0    1    2\n",
      "0  1.0  2.0  3.0\n",
      "\n",
      "全てが欠損値の行のみ削除\n",
      "     0    1    2\n",
      "0  1.0  2.0  3.0\n",
      "1  4.0  NaN  6.0\n"
     ]
    }
   ],
   "source": [
    "frame = pd.DataFrame([[1.,2.,3.],\n",
    "                    [4.,np.nan,6.],\n",
    "                    [np.nan,np.nan,np.nan]])\n",
    "print(frame)\n",
    "\n",
    "print('\\n欠損値を含む行のみを確認')\n",
    "print(frame[frame.isnull().any(axis=1)])\n",
    "\n",
    "print('\\n欠損値を含む行、列の削除')\n",
    "print(frame.dropna())\n",
    "\n",
    "print('\\n全てが欠損値の行のみ削除')\n",
    "print(frame.dropna(how='all'))"
   ]
  },
  {
   "cell_type": "code",
   "execution_count": 20,
   "metadata": {},
   "outputs": [
    {
     "name": "stdout",
     "output_type": "stream",
     "text": [
      "     0    1    2\n",
      "0  1.0  2.0  3.0\n",
      "1  4.0  NaN  6.0\n",
      "2  NaN  NaN  NaN\n",
      "\n",
      "欠損値を0で穴埋め\n",
      "     0    1    2\n",
      "0  1.0  2.0  3.0\n",
      "1  4.0  0.0  6.0\n",
      "2  0.0  0.0  0.0\n",
      "\n",
      "欠損値をDictionaryで穴埋め\n",
      "      0     1     2\n",
      "0   1.0   2.0   3.0\n",
      "1   4.0  20.0   6.0\n",
      "2  10.0  20.0  30.0\n"
     ]
    }
   ],
   "source": [
    "frame = pd.DataFrame([[1.,2.,3.],\n",
    "                    [4.,np.nan,6.],\n",
    "                    [np.nan,np.nan,np.nan]])\n",
    "print(frame)\n",
    "\n",
    "print('\\n欠損値を0で穴埋め')\n",
    "print(frame.fillna(0.))\n",
    "\n",
    "print('\\n欠損値をDictionaryで穴埋め')\n",
    "print(frame.fillna({0:10, 1:20, 2:30}))"
   ]
  },
  {
   "cell_type": "code",
   "execution_count": 36,
   "metadata": {},
   "outputs": [
    {
     "name": "stdout",
     "output_type": "stream",
     "text": [
      "     0    1    2\n",
      "0    1    2    3\n",
      "1    4 -127    6\n",
      "2 -127 -127 -127\n",
      "\n",
      "指定値を欠損値として置き換え\n",
      "     0    1    2\n",
      "0  1.0  2.0  3.0\n",
      "1  4.0  NaN  6.0\n",
      "2  NaN  NaN  NaN\n"
     ]
    }
   ],
   "source": [
    "frame = pd.DataFrame([[1,2,3],\n",
    "                    [4,-127,6],\n",
    "                    [-127,-127,-127]])\n",
    "print(frame)\n",
    "\n",
    "print('\\n指定値を欠損値として置き換え')\n",
    "print(frame.replace(-127, np.nan))"
   ]
  },
  {
   "cell_type": "markdown",
   "metadata": {},
   "source": [
    "# 重複の除去"
   ]
  },
  {
   "cell_type": "code",
   "execution_count": 8,
   "metadata": {},
   "outputs": [
    {
     "name": "stdout",
     "output_type": "stream",
     "text": [
      "   sensor1  sensor2\n",
      "0      1.0      6.0\n",
      "1      2.0      2.0\n",
      "2      2.0      2.0\n",
      "3      4.0      4.0\n",
      "4      2.0      2.0\n",
      "\n",
      "重複する行のみ表示\n",
      "   sensor1  sensor2\n",
      "2      2.0      2.0\n",
      "4      2.0      2.0\n",
      "\n",
      "重複する行を削除\n",
      "   sensor1  sensor2\n",
      "0      1.0      6.0\n",
      "1      2.0      2.0\n",
      "3      4.0      4.0\n"
     ]
    }
   ],
   "source": [
    "data = pd.DataFrame({'sensor1':[1.,2.,2.,4.,2.], 'sensor2': [6.,2.,2.,4.,2.]})\n",
    "print(data)\n",
    "\n",
    "print('\\n重複する行のみ表示')\n",
    "print(data[data.duplicated()])\n",
    "\n",
    "print('\\n重複する行を削除')\n",
    "print(data.drop_duplicates())"
   ]
  },
  {
   "cell_type": "markdown",
   "metadata": {},
   "source": [
    "# インデックスの振り直し"
   ]
  },
  {
   "cell_type": "code",
   "execution_count": 11,
   "metadata": {},
   "outputs": [
    {
     "name": "stdout",
     "output_type": "stream",
     "text": [
      "   sensor1  sensor2\n",
      "0      1.0      6.0\n",
      "1      2.0      2.0\n",
      "2      2.0      2.0\n",
      "3      4.0      4.0\n",
      "4      2.0      2.0\n",
      "\n",
      "重複する行を削除\n",
      "   sensor1  sensor2\n",
      "0      1.0      6.0\n",
      "1      2.0      2.0\n",
      "3      4.0      4.0\n",
      "\n",
      "インデックスを振りなおす\n",
      "   sensor1  sensor2\n",
      "0      1.0      6.0\n",
      "1      2.0      2.0\n",
      "2      4.0      4.0\n"
     ]
    }
   ],
   "source": [
    "data = pd.DataFrame({'sensor1':[1.,2.,2.,4.,2.], 'sensor2': [6.,2.,2.,4.,2.]})\n",
    "print(data)\n",
    "\n",
    "print('\\n重複する行を削除')\n",
    "data.drop_duplicates(inplace=True)\n",
    "print(data)\n",
    "\n",
    "print('\\nインデックスを振りなおす')\n",
    "data.reset_index(drop=True, inplace=True)\n",
    "print(data)"
   ]
  },
  {
   "cell_type": "markdown",
   "metadata": {},
   "source": [
    "# 外れ値の検出と除去"
   ]
  },
  {
   "cell_type": "code",
   "execution_count": 52,
   "metadata": {},
   "outputs": [
    {
     "name": "stdout",
     "output_type": "stream",
     "text": [
      "          0         1         2\n",
      "0  0.803816  0.070844 -2.343208\n",
      "1 -0.283637 -0.007649  1.723306\n",
      "2 -0.306617 -0.511262  1.544639\n",
      "3 -1.319703 -0.190599 -0.441576\n",
      "4 -0.753192 -1.403927  0.168618\n",
      "\n",
      "所定以上の値を外れ値として限界値に丸める\n"
     ]
    },
    {
     "data": {
      "text/html": [
       "<div>\n",
       "<style scoped>\n",
       "    .dataframe tbody tr th:only-of-type {\n",
       "        vertical-align: middle;\n",
       "    }\n",
       "\n",
       "    .dataframe tbody tr th {\n",
       "        vertical-align: top;\n",
       "    }\n",
       "\n",
       "    .dataframe thead th {\n",
       "        text-align: right;\n",
       "    }\n",
       "</style>\n",
       "<table border=\"1\" class=\"dataframe\">\n",
       "  <thead>\n",
       "    <tr style=\"text-align: right;\">\n",
       "      <th></th>\n",
       "      <th>0</th>\n",
       "      <th>1</th>\n",
       "      <th>2</th>\n",
       "    </tr>\n",
       "  </thead>\n",
       "  <tbody>\n",
       "    <tr>\n",
       "      <th>0</th>\n",
       "      <td>0.803816</td>\n",
       "      <td>0.070844</td>\n",
       "      <td>-1.000000</td>\n",
       "    </tr>\n",
       "    <tr>\n",
       "      <th>1</th>\n",
       "      <td>-0.283637</td>\n",
       "      <td>-0.007649</td>\n",
       "      <td>1.000000</td>\n",
       "    </tr>\n",
       "    <tr>\n",
       "      <th>2</th>\n",
       "      <td>-0.306617</td>\n",
       "      <td>-0.511262</td>\n",
       "      <td>1.000000</td>\n",
       "    </tr>\n",
       "    <tr>\n",
       "      <th>3</th>\n",
       "      <td>-1.000000</td>\n",
       "      <td>-0.190599</td>\n",
       "      <td>-0.441576</td>\n",
       "    </tr>\n",
       "    <tr>\n",
       "      <th>4</th>\n",
       "      <td>-0.753192</td>\n",
       "      <td>-1.000000</td>\n",
       "      <td>0.168618</td>\n",
       "    </tr>\n",
       "  </tbody>\n",
       "</table>\n",
       "</div>"
      ],
      "text/plain": [
       "          0         1         2\n",
       "0  0.803816  0.070844 -1.000000\n",
       "1 -0.283637 -0.007649  1.000000\n",
       "2 -0.306617 -0.511262  1.000000\n",
       "3 -1.000000 -0.190599 -0.441576\n",
       "4 -0.753192 -1.000000  0.168618"
      ]
     },
     "execution_count": 52,
     "metadata": {},
     "output_type": "execute_result"
    }
   ],
   "source": [
    "data = pd.DataFrame(np.random.randn(5,3))\n",
    "print(data)\n",
    "print('\\n所定以上の値を外れ値として限界値に丸める')\n",
    "data[(np.abs(data) > 1)] = np.sign(data)\n",
    "data"
   ]
  },
  {
   "cell_type": "code",
   "execution_count": null,
   "metadata": {},
   "outputs": [],
   "source": []
  },
  {
   "cell_type": "code",
   "execution_count": 20,
   "metadata": {},
   "outputs": [
    {
     "name": "stdout",
     "output_type": "stream",
     "text": [
      "\n",
      "結合前\n",
      "          0         1         2\n",
      "0 -0.970429  0.976698  0.120852\n",
      "1 -1.014045 -2.087784  0.675438\n",
      "2  1.053432  0.152857  0.892146\n",
      "3  1.121543 -0.284786  0.470989\n",
      "4 -1.303786 -0.107382 -0.542098\n",
      "          0         1         2\n",
      "0 -0.033789  1.243303 -0.336750\n",
      "1 -0.541188  1.474833 -0.434581\n",
      "2 -0.479493 -0.392412 -0.459585\n",
      "3  1.031489  0.759068  0.826408\n",
      "4 -0.733451 -0.487153 -1.155012\n",
      "\n",
      "結合後\n",
      "          0         1         2         0         1         2\n",
      "0 -0.970429  0.976698  0.120852 -0.033789  1.243303 -0.336750\n",
      "1 -1.014045 -2.087784  0.675438 -0.541188  1.474833 -0.434581\n",
      "2  1.053432  0.152857  0.892146 -0.479493 -0.392412 -0.459585\n",
      "3  1.121543 -0.284786  0.470989  1.031489  0.759068  0.826408\n",
      "4 -1.303786 -0.107382 -0.542098 -0.733451 -0.487153 -1.155012\n"
     ]
    }
   ],
   "source": [
    "print('\\n結合前')\n",
    "data1 = pd.DataFrame(np.random.randn(5,3))\n",
    "print(data1)\n",
    "data2 = pd.DataFrame(np.random.randn(5,3))\n",
    "print(data2)\n",
    "print('\\n結合後')\n",
    "data = pd.concat([data1, data2], axis=1)\n",
    "print(data)"
   ]
  },
  {
   "cell_type": "code",
   "execution_count": null,
   "metadata": {},
   "outputs": [],
   "source": []
  }
 ],
 "metadata": {
  "kernelspec": {
   "display_name": "Python 3",
   "language": "python",
   "name": "python3"
  },
  "language_info": {
   "codemirror_mode": {
    "name": "ipython",
    "version": 3
   },
   "file_extension": ".py",
   "mimetype": "text/x-python",
   "name": "python",
   "nbconvert_exporter": "python",
   "pygments_lexer": "ipython3",
   "version": "3.8.8"
  }
 },
 "nbformat": 4,
 "nbformat_minor": 4
}
