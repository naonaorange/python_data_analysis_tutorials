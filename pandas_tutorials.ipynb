{
 "cells": [
  {
   "cell_type": "code",
   "execution_count": 26,
   "metadata": {},
   "outputs": [],
   "source": [
    "import pandas as pd\n",
    "import numpy as np"
   ]
  },
  {
   "cell_type": "markdown",
   "metadata": {},
   "source": [
    "# Series生成"
   ]
  },
  {
   "cell_type": "code",
   "execution_count": 27,
   "metadata": {},
   "outputs": [
    {
     "name": "stdout",
     "output_type": "stream",
     "text": [
      "Series生成\n",
      "0    2\n",
      "1    3\n",
      "2   -4\n",
      "3    5\n",
      "dtype: int64\n",
      "\n",
      "index指定Series生成\n",
      "0    2\n",
      "1    3\n",
      "2   -4\n",
      "3    5\n",
      "dtype: int64\n",
      "\n",
      "dictionary型からの変換\n",
      "apple     100\n",
      "orange    200\n",
      "lemon     300\n",
      "dtype: int64\n"
     ]
    }
   ],
   "source": [
    "print('Series生成')\n",
    "obj = pd.Series([2,3,-4,5])\n",
    "print(obj)\n",
    "\n",
    "print('\\nindex指定Series生成')\n",
    "obj2 = pd.Series([1,2,-3,4], index=[10,11,12,13])\n",
    "print(obj)\n",
    "\n",
    "print('\\ndictionary型からの変換')\n",
    "obj3 = pd.Series({'apple': 100, 'orange': 200, 'lemon': 300})\n",
    "print(obj3)"
   ]
  },
  {
   "cell_type": "markdown",
   "metadata": {},
   "source": [
    "# value, index表示"
   ]
  },
  {
   "cell_type": "code",
   "execution_count": 28,
   "metadata": {},
   "outputs": [
    {
     "name": "stdout",
     "output_type": "stream",
     "text": [
      "0    2\n",
      "1    3\n",
      "2   -4\n",
      "3    5\n",
      "dtype: int64\n",
      "\n",
      "value表示\n",
      "[ 2  3 -4  5]\n",
      "\n",
      "index表示\n",
      "RangeIndex(start=0, stop=4, step=1)\n"
     ]
    }
   ],
   "source": [
    "obj = pd.Series([2,3,-4,5])\n",
    "print(obj)\n",
    "print('\\nvalue表示')\n",
    "print(obj.values)\n",
    "print('\\nindex表示')\n",
    "print(obj.index)"
   ]
  },
  {
   "cell_type": "markdown",
   "metadata": {},
   "source": [
    "# Series参照"
   ]
  },
  {
   "cell_type": "code",
   "execution_count": 29,
   "metadata": {},
   "outputs": [
    {
     "name": "stdout",
     "output_type": "stream",
     "text": [
      "0    2\n",
      "1    3\n",
      "2   -4\n",
      "3    5\n",
      "dtype: int64\n",
      "\n",
      "Series参照\n",
      "2\n",
      "\n",
      "\n",
      "0    2\n",
      "1    3\n",
      "dtype: int64\n",
      "\n",
      "\n",
      "0    2\n",
      "1    3\n",
      "3    5\n",
      "dtype: int64\n"
     ]
    }
   ],
   "source": [
    "obj = pd.Series([2,3,-4,5])\n",
    "print(obj)\n",
    "\n",
    "print('\\nSeries参照')\n",
    "print(obj[0])\n",
    "print('\\n')\n",
    "print(obj[0:2])\n",
    "print('\\n')\n",
    "print(obj[obj > 0])"
   ]
  },
  {
   "cell_type": "markdown",
   "metadata": {},
   "source": [
    "# Nan値有無の確認"
   ]
  },
  {
   "cell_type": "code",
   "execution_count": 30,
   "metadata": {},
   "outputs": [
    {
     "name": "stdout",
     "output_type": "stream",
     "text": [
      "0    2.0\n",
      "1    NaN\n",
      "2   -4.0\n",
      "3    5.0\n",
      "dtype: float64\n",
      "\n",
      "Nan値があるか確認\n",
      "0    False\n",
      "1     True\n",
      "2    False\n",
      "3    False\n",
      "dtype: bool\n",
      "\n",
      "\n",
      "0    False\n",
      "1     True\n",
      "2    False\n",
      "3    False\n",
      "dtype: bool\n",
      "\n",
      "\n",
      "0     True\n",
      "1    False\n",
      "2     True\n",
      "3     True\n",
      "dtype: bool\n"
     ]
    }
   ],
   "source": [
    "obj = pd.Series([2,None,-4,5])\n",
    "print(obj)\n",
    "print('\\nNan値があるか確認')\n",
    "print(pd.isnull(obj))\n",
    "print('\\n')\n",
    "print(obj.isnull())\n",
    "print('\\n')\n",
    "print(pd.notnull(obj))"
   ]
  },
  {
   "cell_type": "markdown",
   "metadata": {},
   "source": [
    "# Series　四則演算"
   ]
  },
  {
   "cell_type": "code",
   "execution_count": 57,
   "metadata": {},
   "outputs": [
    {
     "name": "stdout",
     "output_type": "stream",
     "text": [
      "\n",
      "和\n",
      "0    12.0\n",
      "1    15.0\n",
      "2    18.0\n",
      "3     NaN\n",
      "dtype: float64\n",
      "\n",
      "差\n",
      "0   -8.0\n",
      "1   -7.0\n",
      "2   -6.0\n",
      "3    NaN\n",
      "dtype: float64\n",
      "\n",
      "積\n",
      "0    20.0\n",
      "1    44.0\n",
      "2    72.0\n",
      "3     NaN\n",
      "dtype: float64\n",
      "\n",
      "商\n",
      "0    0.200000\n",
      "1    0.363636\n",
      "2    0.500000\n",
      "3         NaN\n",
      "dtype: float64\n"
     ]
    }
   ],
   "source": [
    "s1 = pd.Series([2.,4.,6.,8.])\n",
    "s2 = pd.Series([10.,11.,12])\n",
    "print('\\n和')\n",
    "print(s1+s2)\n",
    "print('\\n差')\n",
    "print(s1-s2)\n",
    "print('\\n積')\n",
    "print(s1*s2)\n",
    "print('\\n商')\n",
    "print(s1/s2)"
   ]
  },
  {
   "cell_type": "markdown",
   "metadata": {},
   "source": [
    "# DataFrame生成"
   ]
  },
  {
   "cell_type": "code",
   "execution_count": 31,
   "metadata": {},
   "outputs": [
    {
     "data": {
      "text/html": [
       "<div>\n",
       "<style scoped>\n",
       "    .dataframe tbody tr th:only-of-type {\n",
       "        vertical-align: middle;\n",
       "    }\n",
       "\n",
       "    .dataframe tbody tr th {\n",
       "        vertical-align: top;\n",
       "    }\n",
       "\n",
       "    .dataframe thead th {\n",
       "        text-align: right;\n",
       "    }\n",
       "</style>\n",
       "<table border=\"1\" class=\"dataframe\">\n",
       "  <thead>\n",
       "    <tr style=\"text-align: right;\">\n",
       "      <th></th>\n",
       "      <th>sensor1</th>\n",
       "      <th>sensor2</th>\n",
       "    </tr>\n",
       "  </thead>\n",
       "  <tbody>\n",
       "    <tr>\n",
       "      <th>0</th>\n",
       "      <td>2</td>\n",
       "      <td>10</td>\n",
       "    </tr>\n",
       "    <tr>\n",
       "      <th>1</th>\n",
       "      <td>3</td>\n",
       "      <td>12</td>\n",
       "    </tr>\n",
       "    <tr>\n",
       "      <th>2</th>\n",
       "      <td>5</td>\n",
       "      <td>14</td>\n",
       "    </tr>\n",
       "    <tr>\n",
       "      <th>3</th>\n",
       "      <td>6</td>\n",
       "      <td>15</td>\n",
       "    </tr>\n",
       "    <tr>\n",
       "      <th>4</th>\n",
       "      <td>7</td>\n",
       "      <td>16</td>\n",
       "    </tr>\n",
       "  </tbody>\n",
       "</table>\n",
       "</div>"
      ],
      "text/plain": [
       "   sensor1  sensor2\n",
       "0        2       10\n",
       "1        3       12\n",
       "2        5       14\n",
       "3        6       15\n",
       "4        7       16"
      ]
     },
     "execution_count": 31,
     "metadata": {},
     "output_type": "execute_result"
    }
   ],
   "source": [
    "data = {'sensor1': [2,3,5,6,7],\n",
    "        'sensor2': [10,12,14,15,16]}\n",
    "frame = pd.DataFrame(data)\n",
    "frame"
   ]
  },
  {
   "cell_type": "code",
   "execution_count": 32,
   "metadata": {},
   "outputs": [
    {
     "data": {
      "text/html": [
       "<div>\n",
       "<style scoped>\n",
       "    .dataframe tbody tr th:only-of-type {\n",
       "        vertical-align: middle;\n",
       "    }\n",
       "\n",
       "    .dataframe tbody tr th {\n",
       "        vertical-align: top;\n",
       "    }\n",
       "\n",
       "    .dataframe thead th {\n",
       "        text-align: right;\n",
       "    }\n",
       "</style>\n",
       "<table border=\"1\" class=\"dataframe\">\n",
       "  <thead>\n",
       "    <tr style=\"text-align: right;\">\n",
       "      <th></th>\n",
       "      <th>sensor1</th>\n",
       "      <th>sensor2</th>\n",
       "    </tr>\n",
       "  </thead>\n",
       "  <tbody>\n",
       "    <tr>\n",
       "      <th>0</th>\n",
       "      <td>2</td>\n",
       "      <td>10</td>\n",
       "    </tr>\n",
       "    <tr>\n",
       "      <th>1</th>\n",
       "      <td>3</td>\n",
       "      <td>12</td>\n",
       "    </tr>\n",
       "    <tr>\n",
       "      <th>2</th>\n",
       "      <td>5</td>\n",
       "      <td>14</td>\n",
       "    </tr>\n",
       "  </tbody>\n",
       "</table>\n",
       "</div>"
      ],
      "text/plain": [
       "   sensor1  sensor2\n",
       "0        2       10\n",
       "1        3       12\n",
       "2        5       14"
      ]
     },
     "execution_count": 32,
     "metadata": {},
     "output_type": "execute_result"
    }
   ],
   "source": [
    "data = {'sensor1': [2,3,5,6,7],\n",
    "        'sensor2': [10,12,14,15,16]}\n",
    "frame = pd.DataFrame(data)\n",
    "frame.head(3)"
   ]
  },
  {
   "cell_type": "code",
   "execution_count": 33,
   "metadata": {},
   "outputs": [
    {
     "data": {
      "text/html": [
       "<div>\n",
       "<style scoped>\n",
       "    .dataframe tbody tr th:only-of-type {\n",
       "        vertical-align: middle;\n",
       "    }\n",
       "\n",
       "    .dataframe tbody tr th {\n",
       "        vertical-align: top;\n",
       "    }\n",
       "\n",
       "    .dataframe thead th {\n",
       "        text-align: right;\n",
       "    }\n",
       "</style>\n",
       "<table border=\"1\" class=\"dataframe\">\n",
       "  <thead>\n",
       "    <tr style=\"text-align: right;\">\n",
       "      <th></th>\n",
       "      <th>sensor1</th>\n",
       "      <th>sensor2</th>\n",
       "      <th>sensor3</th>\n",
       "    </tr>\n",
       "  </thead>\n",
       "  <tbody>\n",
       "    <tr>\n",
       "      <th>0</th>\n",
       "      <td>2</td>\n",
       "      <td>10</td>\n",
       "      <td>NaN</td>\n",
       "    </tr>\n",
       "    <tr>\n",
       "      <th>1</th>\n",
       "      <td>3</td>\n",
       "      <td>12</td>\n",
       "      <td>NaN</td>\n",
       "    </tr>\n",
       "    <tr>\n",
       "      <th>2</th>\n",
       "      <td>5</td>\n",
       "      <td>14</td>\n",
       "      <td>NaN</td>\n",
       "    </tr>\n",
       "    <tr>\n",
       "      <th>3</th>\n",
       "      <td>6</td>\n",
       "      <td>15</td>\n",
       "      <td>NaN</td>\n",
       "    </tr>\n",
       "    <tr>\n",
       "      <th>4</th>\n",
       "      <td>7</td>\n",
       "      <td>16</td>\n",
       "      <td>NaN</td>\n",
       "    </tr>\n",
       "  </tbody>\n",
       "</table>\n",
       "</div>"
      ],
      "text/plain": [
       "   sensor1  sensor2 sensor3\n",
       "0        2       10     NaN\n",
       "1        3       12     NaN\n",
       "2        5       14     NaN\n",
       "3        6       15     NaN\n",
       "4        7       16     NaN"
      ]
     },
     "execution_count": 33,
     "metadata": {},
     "output_type": "execute_result"
    }
   ],
   "source": [
    "data = {'sensor1': [2,3,5,6,7],\n",
    "        'sensor2': [10,12,14,15,16]}\n",
    "frame = pd.DataFrame(data, columns=['sensor1', 'sensor2', 'sensor3'])\n",
    "frame"
   ]
  },
  {
   "cell_type": "code",
   "execution_count": null,
   "metadata": {},
   "outputs": [],
   "source": []
  },
  {
   "cell_type": "code",
   "execution_count": null,
   "metadata": {},
   "outputs": [],
   "source": []
  },
  {
   "cell_type": "markdown",
   "metadata": {},
   "source": [
    "# DataFrame参照"
   ]
  },
  {
   "cell_type": "code",
   "execution_count": 42,
   "metadata": {},
   "outputs": [
    {
     "name": "stdout",
     "output_type": "stream",
     "text": [
      "   sensor1  sensor2\n",
      "0        2       10\n",
      "1        3       12\n",
      "2        5       14\n",
      "3        6       15\n",
      "4        7       16\n"
     ]
    }
   ],
   "source": [
    "data = {'sensor1': [2,3,5,6,7],\n",
    "        'sensor2': [10,12,14,15,16]}\n",
    "frame = pd.DataFrame(data)\n",
    "print(frame)"
   ]
  },
  {
   "cell_type": "markdown",
   "metadata": {},
   "source": [
    "# DataFrame フィルタリング"
   ]
  },
  {
   "cell_type": "code",
   "execution_count": 52,
   "metadata": {},
   "outputs": [
    {
     "name": "stdout",
     "output_type": "stream",
     "text": [
      "   sensor1  sensor2\n",
      "0        2       10\n",
      "1        3       12\n",
      "2        5       14\n",
      "3        6       15\n",
      "4        7       16\n",
      "\n",
      "column指定のフィルタリング\n",
      "0    2\n",
      "1    3\n",
      "2    5\n",
      "3    6\n",
      "4    7\n",
      "Name: sensor1, dtype: int64\n",
      "\n",
      "index指定のフィルタリング\n",
      "   sensor1  sensor2\n",
      "2        5       14\n",
      "\n",
      "index指定のフィルタリング\n",
      "sensor1     5\n",
      "sensor2    14\n",
      "Name: 2, dtype: int64\n"
     ]
    }
   ],
   "source": [
    "data = {'sensor1': [2,3,5,6,7],\n",
    "        'sensor2': [10,12,14,15,16]}\n",
    "frame = pd.DataFrame(data)\n",
    "print(frame)\n",
    "\n",
    "print('\\ncolumn指定のフィルタリング')\n",
    "print(frame['sensor1'])\n",
    "\n",
    "print('\\nindex指定のフィルタリング')\n",
    "print(frame[2:3])\n",
    "\n",
    "print('\\nindex指定のフィルタリング')\n",
    "print(frame.loc[2])"
   ]
  },
  {
   "cell_type": "markdown",
   "metadata": {},
   "source": [
    "# DataFrame削除"
   ]
  },
  {
   "cell_type": "code",
   "execution_count": null,
   "metadata": {},
   "outputs": [],
   "source": [
    "data = {'sensor1': [2,3,5,6,7],\n",
    "        'sensor2': [10,12,14,15,16]}\n",
    "frame = pd.DataFrame(data)\n",
    "frame.drop([0,2])"
   ]
  },
  {
   "cell_type": "markdown",
   "metadata": {},
   "source": [
    "# DataFrame　四則演算"
   ]
  },
  {
   "cell_type": "code",
   "execution_count": 65,
   "metadata": {},
   "outputs": [
    {
     "name": "stdout",
     "output_type": "stream",
     "text": [
      "     a    b    c\n",
      "0  0.0  1.0  2.0\n",
      "1  3.0  4.0  5.0\n",
      "2  6.0  7.0  8.0\n",
      "\n",
      "\n",
      "      a     b     d\n",
      "0  10.0  11.0  12.0\n",
      "1  13.0  14.0  15.0\n",
      "2  16.0  17.0  18.0\n",
      "\n",
      "和\n",
      "      a     b   c   d\n",
      "0  10.0  12.0 NaN NaN\n",
      "1  16.0  18.0 NaN NaN\n",
      "2  22.0  24.0 NaN NaN\n",
      "\n",
      "差\n",
      "      a     b   c   d\n",
      "0 -10.0 -10.0 NaN NaN\n",
      "1 -10.0 -10.0 NaN NaN\n",
      "2 -10.0 -10.0 NaN NaN\n",
      "\n",
      "積\n",
      "      a      b   c   d\n",
      "0   0.0   11.0 NaN NaN\n",
      "1  39.0   56.0 NaN NaN\n",
      "2  96.0  119.0 NaN NaN\n",
      "\n",
      "商\n",
      "          a         b   c   d\n",
      "0  0.000000  0.090909 NaN NaN\n",
      "1  0.230769  0.285714 NaN NaN\n",
      "2  0.375000  0.411765 NaN NaN\n"
     ]
    }
   ],
   "source": [
    "f1 = pd.DataFrame(np.arange(9.).reshape(3,3), columns=list('abc'))\n",
    "f2 = pd.DataFrame(np.arange(10.,19.).reshape(3,3), columns=list('abd'))\n",
    "print(f1)\n",
    "print('\\n')\n",
    "print(f2)\n",
    "print('\\n和')\n",
    "print(f1+f2)\n",
    "print('\\n差')\n",
    "print(f1-f2)\n",
    "print('\\n積')\n",
    "print(f1*f2)\n",
    "print('\\n商')\n",
    "print(f1/f2)"
   ]
  },
  {
   "cell_type": "code",
   "execution_count": null,
   "metadata": {},
   "outputs": [],
   "source": []
  },
  {
   "cell_type": "code",
   "execution_count": null,
   "metadata": {},
   "outputs": [],
   "source": []
  }
 ],
 "metadata": {
  "kernelspec": {
   "display_name": "Python 3",
   "language": "python",
   "name": "python3"
  },
  "language_info": {
   "codemirror_mode": {
    "name": "ipython",
    "version": 3
   },
   "file_extension": ".py",
   "mimetype": "text/x-python",
   "name": "python",
   "nbconvert_exporter": "python",
   "pygments_lexer": "ipython3",
   "version": "3.8.8"
  }
 },
 "nbformat": 4,
 "nbformat_minor": 4
}
