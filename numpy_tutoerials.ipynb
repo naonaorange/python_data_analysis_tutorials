{
 "cells": [
  {
   "cell_type": "code",
   "execution_count": 1,
   "metadata": {},
   "outputs": [],
   "source": [
    "import numpy as np"
   ]
  },
  {
   "cell_type": "markdown",
   "metadata": {},
   "source": [
    "# ndarrayの生成"
   ]
  },
  {
   "cell_type": "code",
   "execution_count": 2,
   "metadata": {},
   "outputs": [
    {
     "name": "stdout",
     "output_type": "stream",
     "text": [
      "リストから変換\n",
      "[1 2 3 4]\n",
      "\n",
      "初期値1のndarray\n",
      "[0. 0. 0. 0. 0. 0. 0. 0. 0. 0.]\n",
      "\n",
      "初期値0のndarray\n",
      "[[1. 1. 1.]\n",
      " [1. 1. 1.]]\n",
      "\n",
      "0から順番に並ぶ要素のndarray\n",
      "[ 0  1  2  3  4  5  6  7  8  9 10 11 12 13 14]\n",
      "\n",
      "ランダムのndarray\n",
      "[-0.27599973 -0.03141455 -0.79679084 -0.34204519 -0.5809345 ]\n"
     ]
    }
   ],
   "source": [
    "print('リストから変換')\n",
    "l = [1,2,3,4]\n",
    "print(np.array(l))\n",
    "\n",
    "print('\\n初期値1のndarray')\n",
    "print(np.zeros(10))\n",
    "\n",
    "print('\\n初期値0のndarray')\n",
    "print(np.ones((2,3)))\n",
    "\n",
    "print('\\n0から順番に並ぶ要素のndarray')\n",
    "print(np.arange(15))\n",
    "\n",
    "print('\\nランダムのndarray')\n",
    "print(np.random.randn(5))"
   ]
  },
  {
   "cell_type": "markdown",
   "metadata": {},
   "source": [
    "# 次元、行数、列数"
   ]
  },
  {
   "cell_type": "code",
   "execution_count": 3,
   "metadata": {},
   "outputs": [
    {
     "name": "stdout",
     "output_type": "stream",
     "text": [
      "次元を確認\n",
      "2\n",
      "\n",
      "行数、列数を確認\n",
      "(2, 3)\n",
      "\n",
      "行列数を変更\n",
      "[ 0  1  2  3  4  5  6  7  8  9 10 11 12 13 14]\n",
      "(15,)\n",
      "[[ 0  1  2  3  4]\n",
      " [ 5  6  7  8  9]\n",
      " [10 11 12 13 14]]\n",
      "(3, 5)\n"
     ]
    }
   ],
   "source": [
    "array = np.zeros((2,3))\n",
    "\n",
    "print('次元を確認')\n",
    "print(array.ndim)\n",
    "\n",
    "print('\\n行数、列数を確認')\n",
    "print(array.shape)\n",
    "\n",
    "print('\\n行列数を変更')\n",
    "array = np.arange(15)\n",
    "print(array)\n",
    "print(array.shape)\n",
    "array = array.reshape((3,5))\n",
    "print(array)\n",
    "print(array.shape)"
   ]
  },
  {
   "cell_type": "markdown",
   "metadata": {},
   "source": [
    "# Bool行列作成"
   ]
  },
  {
   "cell_type": "code",
   "execution_count": 4,
   "metadata": {},
   "outputs": [
    {
     "name": "stdout",
     "output_type": "stream",
     "text": [
      "[False  True False  True False False False]\n",
      "[ True  True  True  True False  True False]\n",
      "\n",
      "要素の中に1つでもTrueがあるか\n",
      "True\n",
      "\n",
      "要素のすべてがTrueがどうか\n",
      "True\n"
     ]
    }
   ],
   "source": [
    "array = np.array([1,2,3,2,-1,3, -2])\n",
    "print(array == 2)\n",
    "print(array > 0)\n",
    "\n",
    "print('\\n要素の中に1つでもTrueがあるか')\n",
    "print(array.any())\n",
    "print('\\n要素のすべてがTrueがどうか')\n",
    "print(array.all())"
   ]
  },
  {
   "cell_type": "markdown",
   "metadata": {},
   "source": [
    "# 積、行列積、転置行列"
   ]
  },
  {
   "cell_type": "code",
   "execution_count": 5,
   "metadata": {},
   "outputs": [
    {
     "name": "stdout",
     "output_type": "stream",
     "text": [
      "元の行列\n",
      "[[ 0  1  2  3  4]\n",
      " [ 5  6  7  8  9]\n",
      " [10 11 12 13 14]]\n",
      "\n",
      "単純な積\n",
      "[[ 0  2  4  6  8]\n",
      " [10 12 14 16 18]\n",
      " [20 22 24 26 28]]\n",
      "\n",
      "転置行列\n",
      "[[ 0  5 10]\n",
      " [ 1  6 11]\n",
      " [ 2  7 12]\n",
      " [ 3  8 13]\n",
      " [ 4  9 14]]\n",
      "\n",
      "行列積\n",
      "[[ 30  80 130]\n",
      " [ 80 255 430]\n",
      " [130 430 730]]\n",
      "[[ 30  80 130]\n",
      " [ 80 255 430]\n",
      " [130 430 730]]\n",
      "\n",
      "逆行列\n",
      "[[ 3.51843721e+13 -7.03687442e+13  3.51843721e+13]\n",
      " [-7.03687442e+13  1.40737488e+14 -7.03687442e+13]\n",
      " [ 3.51843721e+13 -7.03687442e+13  3.51843721e+13]]\n"
     ]
    }
   ],
   "source": [
    "from numpy.linalg import inv\n",
    "\n",
    "print('元の行列')\n",
    "array = np.arange(15).reshape(3,5)\n",
    "print(array)\n",
    "\n",
    "print('\\n単純な積')\n",
    "print(2*array)\n",
    "\n",
    "print('\\n転置行列')\n",
    "print(array.T)\n",
    "\n",
    "print('\\n行列積')\n",
    "print(array.dot(array.T))\n",
    "print(np.dot(array, array.T))\n",
    "\n",
    "print('\\n逆行列')\n",
    "array = np.arange(9).reshape(3,3)\n",
    "print(inv(array.T.dot(array)))"
   ]
  },
  {
   "cell_type": "markdown",
   "metadata": {},
   "source": [
    "# 和、平均、標準偏差、分散"
   ]
  },
  {
   "cell_type": "code",
   "execution_count": 6,
   "metadata": {},
   "outputs": [
    {
     "name": "stdout",
     "output_type": "stream",
     "text": [
      "元の行列\n",
      "[[ 0  1  2  3  4]\n",
      " [ 5  6  7  8  9]\n",
      " [10 11 12 13 14]]\n",
      "\n",
      "配列和\n",
      "105\n",
      "\n",
      "平均\n",
      "7.0\n",
      "\n",
      "標準偏差、分散\n",
      "4.320493798938574\n",
      "18.666666666666668\n"
     ]
    }
   ],
   "source": [
    "print('元の行列')\n",
    "array = np.arange(15).reshape(3,5)\n",
    "print(array)\n",
    "\n",
    "print('\\n配列和')\n",
    "print(array.sum())\n",
    "\n",
    "print('\\n平均')\n",
    "print(array.mean())\n",
    "\n",
    "print('\\n標準偏差、分散')\n",
    "print(array.std())\n",
    "print(array.var())"
   ]
  },
  {
   "cell_type": "markdown",
   "metadata": {},
   "source": [
    "# ファイル入出力"
   ]
  },
  {
   "cell_type": "code",
   "execution_count": 7,
   "metadata": {},
   "outputs": [
    {
     "name": "stdout",
     "output_type": "stream",
     "text": [
      "[[ 0  1  2  3  4]\n",
      " [ 5  6  7  8  9]\n",
      " [10 11 12 13 14]]\n",
      "\n",
      "ファイル保存\n",
      "\n",
      "ファイル読み出し\n"
     ]
    },
    {
     "data": {
      "text/plain": [
       "array([[ 0,  1,  2,  3,  4],\n",
       "       [ 5,  6,  7,  8,  9],\n",
       "       [10, 11, 12, 13, 14]])"
      ]
     },
     "execution_count": 7,
     "metadata": {},
     "output_type": "execute_result"
    }
   ],
   "source": [
    "array = np.arange(15).reshape(3,5)\n",
    "print(array)\n",
    "\n",
    "print('\\nファイル保存')\n",
    "np.save('array', array)\n",
    "\n",
    "print('\\nファイル読み出し')\n",
    "np.load('array.npy')"
   ]
  }
 ],
 "metadata": {
  "kernelspec": {
   "display_name": "Python 3",
   "language": "python",
   "name": "python3"
  },
  "language_info": {
   "codemirror_mode": {
    "name": "ipython",
    "version": 3
   },
   "file_extension": ".py",
   "mimetype": "text/x-python",
   "name": "python",
   "nbconvert_exporter": "python",
   "pygments_lexer": "ipython3",
   "version": "3.7.9"
  }
 },
 "nbformat": 4,
 "nbformat_minor": 4
}
